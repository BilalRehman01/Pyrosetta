{
 "cells": [
  {
   "cell_type": "code",
   "execution_count": 4,
   "metadata": {},
   "outputs": [
    {
     "ename": "ModuleNotFoundError",
     "evalue": "No module named 'pyrosetta'",
     "output_type": "error",
     "traceback": [
      "\u001b[0;31m---------------------------------------------------------------------------\u001b[0m",
      "\u001b[0;31mModuleNotFoundError\u001b[0m                       Traceback (most recent call last)",
      "\u001b[0;32m<ipython-input-4-302cf2cebf77>\u001b[0m in \u001b[0;36m<module>\u001b[0;34m\u001b[0m\n\u001b[0;32m----> 1\u001b[0;31m \u001b[0;32mfrom\u001b[0m \u001b[0mpyrosetta\u001b[0m\u001b[0;34m.\u001b[0m\u001b[0mrosetta\u001b[0m \u001b[0;32mimport\u001b[0m \u001b[0;34m*\u001b[0m\u001b[0;34m\u001b[0m\u001b[0;34m\u001b[0m\u001b[0m\n\u001b[0m\u001b[1;32m      2\u001b[0m \u001b[0;32mfrom\u001b[0m \u001b[0mpyrosetta\u001b[0m \u001b[0;32mimport\u001b[0m \u001b[0;34m*\u001b[0m\u001b[0;34m\u001b[0m\u001b[0;34m\u001b[0m\u001b[0m\n\u001b[1;32m      3\u001b[0m \u001b[0;32mfrom\u001b[0m \u001b[0mpyrosetta\u001b[0m\u001b[0;34m.\u001b[0m\u001b[0mtoolbox\u001b[0m \u001b[0;32mimport\u001b[0m \u001b[0;34m*\u001b[0m\u001b[0;34m\u001b[0m\u001b[0;34m\u001b[0m\u001b[0m\n\u001b[1;32m      4\u001b[0m \u001b[0minit\u001b[0m\u001b[0;34m(\u001b[0m\u001b[0mextra_options\u001b[0m \u001b[0;34m=\u001b[0m \u001b[0;34m\"-beta_nov16_cart -in:file:s TLR2_6.clean.pdb -use_input_sc -constrain_relax_to_start_coords -ignore_unrecognized_res -relax:coord_constrain_sidechains -relax:ramp_constraints false -relax:cartesian -relax:min_type lbfgs_armijo_nonmonotone\"\u001b[0m\u001b[0;34m)\u001b[0m\u001b[0;34m\u001b[0m\u001b[0;34m\u001b[0m\u001b[0m\n\u001b[1;32m      5\u001b[0m \u001b[0mpose\u001b[0m \u001b[0;34m=\u001b[0m \u001b[0mPose\u001b[0m\u001b[0;34m(\u001b[0m\u001b[0;34m)\u001b[0m\u001b[0;34m\u001b[0m\u001b[0;34m\u001b[0m\u001b[0m\n",
      "\u001b[0;31mModuleNotFoundError\u001b[0m: No module named 'pyrosetta'"
     ]
    }
   ],
   "source": [
    "from pyrosetta.rosetta import *\n",
    "from pyrosetta import *\n",
    "from pyrosetta.toolbox import *\n",
    "init(extra_options = \"-beta_nov16_cart -in:file:s TLR2_6.clean.pdb -use_input_sc -constrain_relax_to_start_coords -ignore_unrecognized_res -relax:coord_constrain_sidechains -relax:ramp_constraints false -relax:cartesian -relax:min_type lbfgs_armijo_nonmonotone\")\n",
    "pose = Pose()\n",
    "pose = pose_from_pdb(\"TLR2_6.clean.pdb\")\n",
    "scorefxn = ScoreFunction()\n",
    "scorefxn = get_fa_scorefxn()\n",
    "scorefxn(pose)\n",
    "mutate_residue(pose, 323,'A')\n",
    "relax = pyrosetta.rosetta.protocols.relax.FastRelax()\n",
    "relax.constrain_relax_to_start_coords(True)\n",
    "relax.coord_constrain_sidechains(True)\n",
    "relax.ramp_down_constraints(False)\n",
    "relax.cartesian(True)\n",
    "relax.min_type(\"lbfgs_armijo_nonmonotone\")\n",
    "relax.set_scorefxn(scorefxn)\n",
    "relax.apply(pose)\n",
    "pose.dump_pdb(\"TLR2_6.F349A.pdb\")\n",
    "print(scorefxn(pose))\n",
    "\n",
    "from pyrosetta.rosetta import *\n",
    "from pyrosetta import *\n",
    "from pyrosetta.toolbox import *\n",
    "init(extra_options = \"-beta_nov16_cart -in:file:s TLR2_6.F349A.pdb -ddg:mut_file -ddg:iterations 5 -max_cycles 200 -relax:min_type lbfgs_armijo_nonmonotone -fa_max_dis 9.0\")\n",
    "pose = Pose()\n",
    "pose = pose_from_pdb(\"TLR2_6.F349A.pdb\")\n",
    "scorefxn = ScoreFunction()\n",
    "scorefxn = get_fa_scorefxn()\n",
    "relax = pyrosetta.rosetta.protocols.relax.FastRelax()\n",
    "relax.constrain_relax_to_start_coords(True)\n",
    "relax.coord_constrain_sidechains(True)\n",
    "relax.ramp_down_constraints(False)\n",
    "relax.cartesian(True)\n",
    "relax.min_type(\"lbfgs_armijo_nonmonotone\")\n",
    "relax.set_scorefxn(scorefxn)\n",
    "print(scorefxn(pose))"
   ]
  },
  {
   "cell_type": "code",
   "execution_count": 9,
   "metadata": {},
   "outputs": [],
   "source": [
    "import sys\n",
    "if 'google.colab' in sys.modules:\n",
    "    !pip install pyrosettacolabsetup\n",
    "    import pyrosettacolabsetup\n",
    "    pyrosettacolabsetup.setup()\n",
    "    print (\"Notebook is set for PyRosetta use in Colab.  Have fun!\")"
   ]
  },
  {
   "cell_type": "code",
   "execution_count": 1,
   "metadata": {},
   "outputs": [
    {
     "ename": "ModuleNotFoundError",
     "evalue": "No module named 'pyrosetta'",
     "output_type": "error",
     "traceback": [
      "\u001b[0;31m---------------------------------------------------------------------------\u001b[0m",
      "\u001b[0;31mModuleNotFoundError\u001b[0m                       Traceback (most recent call last)",
      "\u001b[0;32m<ipython-input-1-302cf2cebf77>\u001b[0m in \u001b[0;36m<module>\u001b[0;34m\u001b[0m\n\u001b[0;32m----> 1\u001b[0;31m \u001b[0;32mfrom\u001b[0m \u001b[0mpyrosetta\u001b[0m\u001b[0;34m.\u001b[0m\u001b[0mrosetta\u001b[0m \u001b[0;32mimport\u001b[0m \u001b[0;34m*\u001b[0m\u001b[0;34m\u001b[0m\u001b[0;34m\u001b[0m\u001b[0m\n\u001b[0m\u001b[1;32m      2\u001b[0m \u001b[0;32mfrom\u001b[0m \u001b[0mpyrosetta\u001b[0m \u001b[0;32mimport\u001b[0m \u001b[0;34m*\u001b[0m\u001b[0;34m\u001b[0m\u001b[0;34m\u001b[0m\u001b[0m\n\u001b[1;32m      3\u001b[0m \u001b[0;32mfrom\u001b[0m \u001b[0mpyrosetta\u001b[0m\u001b[0;34m.\u001b[0m\u001b[0mtoolbox\u001b[0m \u001b[0;32mimport\u001b[0m \u001b[0;34m*\u001b[0m\u001b[0;34m\u001b[0m\u001b[0;34m\u001b[0m\u001b[0m\n\u001b[1;32m      4\u001b[0m \u001b[0minit\u001b[0m\u001b[0;34m(\u001b[0m\u001b[0mextra_options\u001b[0m \u001b[0;34m=\u001b[0m \u001b[0;34m\"-beta_nov16_cart -in:file:s TLR2_6.clean.pdb -use_input_sc -constrain_relax_to_start_coords -ignore_unrecognized_res -relax:coord_constrain_sidechains -relax:ramp_constraints false -relax:cartesian -relax:min_type lbfgs_armijo_nonmonotone\"\u001b[0m\u001b[0;34m)\u001b[0m\u001b[0;34m\u001b[0m\u001b[0;34m\u001b[0m\u001b[0m\n\u001b[1;32m      5\u001b[0m \u001b[0mpose\u001b[0m \u001b[0;34m=\u001b[0m \u001b[0mPose\u001b[0m\u001b[0;34m(\u001b[0m\u001b[0;34m)\u001b[0m\u001b[0;34m\u001b[0m\u001b[0;34m\u001b[0m\u001b[0m\n",
      "\u001b[0;31mModuleNotFoundError\u001b[0m: No module named 'pyrosetta'"
     ]
    }
   ],
   "source": [
    "from pyrosetta.rosetta import *\n",
    "from pyrosetta import *\n",
    "from pyrosetta.toolbox import *\n",
    "init(extra_options = \"-beta_nov16_cart -in:file:s TLR2_6.clean.pdb -use_input_sc -constrain_relax_to_start_coords -ignore_unrecognized_res -relax:coord_constrain_sidechains -relax:ramp_constraints false -relax:cartesian -relax:min_type lbfgs_armijo_nonmonotone\")\n",
    "pose = Pose()\n",
    "pose = pose_from_pdb(\"TLR2_6.clean.pdb\")\n",
    "scorefxn = ScoreFunction()\n",
    "scorefxn = get_fa_scorefxn()\n",
    "scorefxn(pose)\n",
    "mutate_residue(pose, 323,'A')\n",
    "relax = pyrosetta.rosetta.protocols.relax.FastRelax()\n",
    "relax.constrain_relax_to_start_coords(True)\n",
    "relax.coord_constrain_sidechains(True)\n",
    "relax.ramp_down_constraints(False)\n",
    "relax.cartesian(True)\n",
    "relax.min_type(\"lbfgs_armijo_nonmonotone\")\n",
    "relax.set_scorefxn(scorefxn)\n",
    "relax.apply(pose)\n",
    "pose.dump_pdb(\"TLR2_6.F349A.pdb\")\n",
    "print(scorefxn(pose))\n",
    "\n",
    "from pyrosetta.rosetta import *\n",
    "from pyrosetta import *\n",
    "from pyrosetta.toolbox import *\n",
    "init(extra_options = \"-beta_nov16_cart -in:file:s TLR2_6.F349A.pdb -ddg:mut_file -ddg:iterations 5 -max_cycles 200 -relax:min_type lbfgs_armijo_nonmonotone -fa_max_dis 9.0\")\n",
    "pose = Pose()\n",
    "pose = pose_from_pdb(\"TLR2_6.F349A.pdb\")\n",
    "scorefxn = ScoreFunction()\n",
    "scorefxn = get_fa_scorefxn()\n",
    "relax = pyrosetta.rosetta.protocols.relax.FastRelax()\n",
    "relax.constrain_relax_to_start_coords(True)\n",
    "relax.coord_constrain_sidechains(True)\n",
    "relax.ramp_down_constraints(False)\n",
    "relax.cartesian(True)\n",
    "relax.min_type(\"lbfgs_armijo_nonmonotone\")\n",
    "relax.set_scorefxn(scorefxn)\n",
    "print(scorefxn(pose))"
   ]
  },
  {
   "cell_type": "code",
   "execution_count": 2,
   "metadata": {},
   "outputs": [
    {
     "ename": "ModuleNotFoundError",
     "evalue": "No module named 'pyrosetta'",
     "output_type": "error",
     "traceback": [
      "\u001b[0;31m---------------------------------------------------------------------------\u001b[0m",
      "\u001b[0;31mModuleNotFoundError\u001b[0m                       Traceback (most recent call last)",
      "\u001b[0;32m<ipython-input-2-90ab7f877499>\u001b[0m in \u001b[0;36m<module>\u001b[0;34m\u001b[0m\n\u001b[0;32m----> 1\u001b[0;31m \u001b[0;32mfrom\u001b[0m \u001b[0mpyrosetta\u001b[0m \u001b[0;32mimport\u001b[0m \u001b[0;34m*\u001b[0m\u001b[0;34m\u001b[0m\u001b[0;34m\u001b[0m\u001b[0m\n\u001b[0m\u001b[1;32m      2\u001b[0m \u001b[0minit\u001b[0m\u001b[0;34m(\u001b[0m\u001b[0;34m)\u001b[0m\u001b[0;34m\u001b[0m\u001b[0;34m\u001b[0m\u001b[0m\n",
      "\u001b[0;31mModuleNotFoundError\u001b[0m: No module named 'pyrosetta'"
     ]
    }
   ],
   "source": [
    "from pyrosetta import *\n",
    "init()"
   ]
  },
  {
   "cell_type": "code",
   "execution_count": 5,
   "metadata": {},
   "outputs": [],
   "source": [
    "import sys\n",
    "if 'google.colab' in sys.modules:\n",
    "    !pip install pyrosettacolabsetup\n",
    "    import pyrosettacolabsetup\n",
    "    pyrosettacolabsetup.setup()\n",
    "    print (\"Notebook is set for PyRosetta use in Colab.  Have fun!\")"
   ]
  },
  {
   "cell_type": "code",
   "execution_count": 6,
   "metadata": {},
   "outputs": [
    {
     "ename": "ModuleNotFoundError",
     "evalue": "No module named 'pyrosetta'",
     "output_type": "error",
     "traceback": [
      "\u001b[0;31m---------------------------------------------------------------------------\u001b[0m",
      "\u001b[0;31mModuleNotFoundError\u001b[0m                       Traceback (most recent call last)",
      "\u001b[0;32m<ipython-input-6-302cf2cebf77>\u001b[0m in \u001b[0;36m<module>\u001b[0;34m\u001b[0m\n\u001b[0;32m----> 1\u001b[0;31m \u001b[0;32mfrom\u001b[0m \u001b[0mpyrosetta\u001b[0m\u001b[0;34m.\u001b[0m\u001b[0mrosetta\u001b[0m \u001b[0;32mimport\u001b[0m \u001b[0;34m*\u001b[0m\u001b[0;34m\u001b[0m\u001b[0;34m\u001b[0m\u001b[0m\n\u001b[0m\u001b[1;32m      2\u001b[0m \u001b[0;32mfrom\u001b[0m \u001b[0mpyrosetta\u001b[0m \u001b[0;32mimport\u001b[0m \u001b[0;34m*\u001b[0m\u001b[0;34m\u001b[0m\u001b[0;34m\u001b[0m\u001b[0m\n\u001b[1;32m      3\u001b[0m \u001b[0;32mfrom\u001b[0m \u001b[0mpyrosetta\u001b[0m\u001b[0;34m.\u001b[0m\u001b[0mtoolbox\u001b[0m \u001b[0;32mimport\u001b[0m \u001b[0;34m*\u001b[0m\u001b[0;34m\u001b[0m\u001b[0;34m\u001b[0m\u001b[0m\n\u001b[1;32m      4\u001b[0m \u001b[0minit\u001b[0m\u001b[0;34m(\u001b[0m\u001b[0mextra_options\u001b[0m \u001b[0;34m=\u001b[0m \u001b[0;34m\"-beta_nov16_cart -in:file:s TLR2_6.clean.pdb -use_input_sc -constrain_relax_to_start_coords -ignore_unrecognized_res -relax:coord_constrain_sidechains -relax:ramp_constraints false -relax:cartesian -relax:min_type lbfgs_armijo_nonmonotone\"\u001b[0m\u001b[0;34m)\u001b[0m\u001b[0;34m\u001b[0m\u001b[0;34m\u001b[0m\u001b[0m\n\u001b[1;32m      5\u001b[0m \u001b[0mpose\u001b[0m \u001b[0;34m=\u001b[0m \u001b[0mPose\u001b[0m\u001b[0;34m(\u001b[0m\u001b[0;34m)\u001b[0m\u001b[0;34m\u001b[0m\u001b[0;34m\u001b[0m\u001b[0m\n",
      "\u001b[0;31mModuleNotFoundError\u001b[0m: No module named 'pyrosetta'"
     ]
    }
   ],
   "source": [
    "from pyrosetta.rosetta import *\n",
    "from pyrosetta import *\n",
    "from pyrosetta.toolbox import *\n",
    "init(extra_options = \"-beta_nov16_cart -in:file:s TLR2_6.clean.pdb -use_input_sc -constrain_relax_to_start_coords -ignore_unrecognized_res -relax:coord_constrain_sidechains -relax:ramp_constraints false -relax:cartesian -relax:min_type lbfgs_armijo_nonmonotone\")\n",
    "pose = Pose()\n",
    "pose = pose_from_pdb(\"TLR2_6.clean.pdb\")\n",
    "scorefxn = ScoreFunction()\n",
    "scorefxn = get_fa_scorefxn()\n",
    "scorefxn(pose)\n",
    "mutate_residue(pose, 323,'A')\n",
    "relax = pyrosetta.rosetta.protocols.relax.FastRelax()\n",
    "relax.constrain_relax_to_start_coords(True)\n",
    "relax.coord_constrain_sidechains(True)\n",
    "relax.ramp_down_constraints(False)\n",
    "relax.cartesian(True)\n",
    "relax.min_type(\"lbfgs_armijo_nonmonotone\")\n",
    "relax.set_scorefxn(scorefxn)\n",
    "relax.apply(pose)\n",
    "pose.dump_pdb(\"TLR2_6.F349A.pdb\")\n",
    "print(scorefxn(pose))\n",
    "\n",
    "from pyrosetta.rosetta import *\n",
    "from pyrosetta import *\n",
    "from pyrosetta.toolbox import *\n",
    "init(extra_options = \"-beta_nov16_cart -in:file:s TLR2_6.F349A.pdb -ddg:mut_file -ddg:iterations 5 -max_cycles 200 -relax:min_type lbfgs_armijo_nonmonotone -fa_max_dis 9.0\")\n",
    "pose = Pose()\n",
    "pose = pose_from_pdb(\"TLR2_6.F349A.pdb\")\n",
    "scorefxn = ScoreFunction()\n",
    "scorefxn = get_fa_scorefxn()\n",
    "relax = pyrosetta.rosetta.protocols.relax.FastRelax()\n",
    "relax.constrain_relax_to_start_coords(True)\n",
    "relax.coord_constrain_sidechains(True)\n",
    "relax.ramp_down_constraints(False)\n",
    "relax.cartesian(True)\n",
    "relax.min_type(\"lbfgs_armijo_nonmonotone\")\n",
    "relax.set_scorefxn(scorefxn)\n",
    "print(scorefxn(pose))"
   ]
  },
  {
   "cell_type": "code",
   "execution_count": null,
   "metadata": {},
   "outputs": [],
   "source": []
  }
 ],
 "metadata": {
  "kernelspec": {
   "display_name": "Python 3",
   "language": "python",
   "name": "python3"
  },
  "language_info": {
   "codemirror_mode": {
    "name": "ipython",
    "version": 3
   },
   "file_extension": ".py",
   "mimetype": "text/x-python",
   "name": "python",
   "nbconvert_exporter": "python",
   "pygments_lexer": "ipython3",
   "version": "3.8.3"
  }
 },
 "nbformat": 4,
 "nbformat_minor": 4
}
